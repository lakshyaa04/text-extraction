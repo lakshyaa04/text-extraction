{
 "cells": [
  {
   "cell_type": "code",
   "execution_count": 2,
   "id": "02e4af6b",
   "metadata": {},
   "outputs": [],
   "source": [
    "import cv2\n",
    "import numpy as np"
   ]
  },
  {
   "cell_type": "code",
   "execution_count": 3,
   "id": "ee6d291b",
   "metadata": {},
   "outputs": [],
   "source": [
    "import pytesseract\n",
    "pytesseract.pytesseract.tesseract_cmd=r'C:\\Program Files\\Tesseract-OCR\\tesseract'"
   ]
  },
  {
   "cell_type": "code",
   "execution_count": 4,
   "id": "fa02f0ea",
   "metadata": {},
   "outputs": [],
   "source": [
    "image = cv2.imread('C:/Users/lakshya/Downloads/Data/Task1/1.jpg')"
   ]
  },
  {
   "cell_type": "code",
   "execution_count": 5,
   "id": "4ae2df5b",
   "metadata": {},
   "outputs": [],
   "source": [
    "cv2.imshow(\"sample image\",image)\n",
    "cv2.waitKey()\n",
    "cv2.destroyAllWindows()"
   ]
  },
  {
   "cell_type": "code",
   "execution_count": 6,
   "id": "2f5ffb14",
   "metadata": {},
   "outputs": [],
   "source": [
    "kernel = np.array([[0, -1, 0],\n",
    "                   [-1, 5,-1],\n",
    "                   [0, -1, 0]])\n",
    "image_sharp = cv2.filter2D(src=image, ddepth=-1, kernel=kernel)\n",
    "cv2.imshow(\"sample image\", image)\n",
    "cv2.imshow(\"blur\", image_sharp)\n",
    "cv2.waitKey()\n",
    "cv2.destroyAllWindows()"
   ]
  },
  {
   "cell_type": "code",
   "execution_count": 7,
   "id": "0b0c5fd2",
   "metadata": {},
   "outputs": [
    {
     "name": "stdout",
     "output_type": "stream",
     "text": [
      "Satisted cenmveying an dependent corented he gentleman agreeable do be. Harrant\n",
      "private blushes removed an in equally totally if. Delivered dejection necessary\n",
      "objection de mr prevailed. Mr feeling do chiefly cordial in do. Hater timed folly\n",
      "right aware if oh truth. Imprudence attachmerd hin hy r gumpathize. Large above\n",
      "be fo meang. Dashwood do provided stronger is. But elion frequently sir the\n",
      "she instrument unattected admiration everything.\n",
      "\n",
      "Her extensive perceived may any sincerity extremity. Indeed add rather may pretty\n",
      "see, Qld propriety delight plained perceived otherwize objection saw ten her.\n",
      "Qoubt merit gir the right th alone keeps. By sometimes intention smallnecs he\n",
      "northward, Consisted we otherwise nging commanded discovery if explained.\n",
      "(ieee cold even song like tuo yet been. Literature interested arnouncing for\n",
      "terminated him inquietude day shy. Himgelf he fertile ri operhaps waiting if\n",
      "highest no it, Continued promotion has consulted fat improving net pay.\n",
      "\n",
      "Far quitting dwelling graceful the Likewise received | palding: An fact so to that\n",
      "show am shed sold cold. Unatt i\n",
      "terminated led, Result either de\n",
      "ferrars if ye besides resolve, Gun judgment directly few Wifline “Eder m as\n",
      "pursuit at regular do parlors. Rank what haz into fond she.\n",
      "\n",
      "Qf friendship on inhabiting diminution discovered ag. [id friendly eat breeding\n",
      "building few nor. Ob jeot he barton ne effect played valley afford. Period go to\n",
      "oppose we Little seeing er branch. Announcing contrasted net imprudence add\n",
      "frequently you po ‘ion mrs. Period sau his houses square and misery. Hour had\n",
      "held lain give yet.\n",
      "\n",
      "\n"
     ]
    }
   ],
   "source": [
    "text = pytesseract.image_to_string(image_sharp)\n",
    "print(text)"
   ]
  },
  {
   "cell_type": "code",
   "execution_count": null,
   "id": "4be21dfc",
   "metadata": {},
   "outputs": [],
   "source": []
  }
 ],
 "metadata": {
  "kernelspec": {
   "display_name": "Python 3",
   "language": "python",
   "name": "python3"
  },
  "language_info": {
   "codemirror_mode": {
    "name": "ipython",
    "version": 3
   },
   "file_extension": ".py",
   "mimetype": "text/x-python",
   "name": "python",
   "nbconvert_exporter": "python",
   "pygments_lexer": "ipython3",
   "version": "3.8.8"
  }
 },
 "nbformat": 4,
 "nbformat_minor": 5
}
